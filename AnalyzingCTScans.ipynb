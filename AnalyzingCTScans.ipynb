{
 "cells": [
  {
   "cell_type": "markdown",
   "metadata": {},
   "source": [
    "To perform good segmentation, one must first understand the provided data set\n",
    "* How image & mask look like\n",
    "* Pixel values of each image & mask etc.\n",
    "\n",
    "Dataset provided:\n",
    "* Image : CT Scan image of patient in converted to .png format\n",
    "* Mask : GroundTruth for image (Already labelled)"
   ]
  },
  {
   "cell_type": "code",
   "execution_count": null,
   "metadata": {},
   "outputs": [],
   "source": [
    "import os\n",
    "import matplotlib.pyplot as plt\n",
    "import re, glob\n",
    "import cv2\n",
    "import numpy as np\n",
    "from PIL import Image\n",
    "import PIL\n",
    "import nrrd"
   ]
  },
  {
   "cell_type": "code",
   "execution_count": null,
   "metadata": {},
   "outputs": [],
   "source": [
    "data_dir = '/home/tester/jianhoong/jh_fyp_work/ct_scans_data/processed_data/'\n",
    "\n",
    "z_train_image = os.path.join(data_dir, 'train_data/training_images/training_images_new')\n",
    "z_valid_image = os.path.join(data_dir, 'valid_data/valid_images/valid_images')\n",
    "z_test_image = os.path.join(data_dir, 'test_data/test_images/testing_images_new')\n",
    "\n",
    "z_train_mask = os.path.join(data_dir, 'train_data/training_masks/training_masks_new')\n",
    "z_valid_mask = os.path.join(data_dir, 'valid_data/valid_masks/valid_masks')\n",
    "z_test_mask = os.path.join(data_dir, 'test_data/test_masks/testing_masks_new')"
   ]
  },
  {
   "cell_type": "code",
   "execution_count": null,
   "metadata": {},
   "outputs": [],
   "source": [
    "# # Getting all patient numbers in specific directory\n",
    "patient_num_train = sorted(list(map(int, {re.search('P(.*)-slice*', file).group(1) for file in os.listdir(z_train_image)})))\n",
    "patient_num_valid = sorted(list(map(int, {re.search('P(.*)-slice*', file).group(1) for file in os.listdir(z_valid_image)})))\n",
    "patient_num_test = sorted(list(map(int, {re.search('P(.*)-slice*', file).group(1) for file in os.listdir(z_test_image)})))"
   ]
  },
  {
   "cell_type": "code",
   "execution_count": null,
   "metadata": {},
   "outputs": [],
   "source": [
    "print(len(patient_num_train))\n",
    "print(len(patient_num_valid))\n",
    "print(len(patient_num_test))"
   ]
  },
  {
   "cell_type": "code",
   "execution_count": null,
   "metadata": {},
   "outputs": [],
   "source": [
    "# Patient Dict : {Patient Number : Number of Slices}\n",
    "z_patient_dict_train = dict()\n",
    "z_patient_dict_valid = dict()\n",
    "z_patient_dict_test = dict()\n",
    "\n",
    "for i in range(len(patient_num_train)): # i represents each patient's number (Assuming there is no jump in patient number. Else must rewrite logic)\n",
    "    current_patient_num = 'P' + str(i+1)\n",
    "    current_patient_slice_amt = max(map(int,[re.search(current_patient_num + '-slice(.*)_z.png', file).group(1) for file in os.listdir(z_train_image) if file.startswith(current_patient_num+\"-\")]))\n",
    "    z_patient_dict_train.update({i+1: current_patient_slice_amt})\n",
    "\n",
    "z_patient_dict_valid = dict()\n",
    "for i in patient_num_valid:\n",
    "    current_patient_num = 'P' + str(i)\n",
    "    current_patient_slice_amt = max(map(int,[re.search(current_patient_num + '-slice(.*)_z.png', file).group(1) for file in os.listdir(z_valid_image) if file.startswith(current_patient_num+\"-\")]))\n",
    "    z_patient_dict_valid.update({i: current_patient_slice_amt})\n",
    "\n",
    "z_patient_test_valid = dict()\n",
    "for i in patient_num_test:\n",
    "    current_patient_num = 'P' + str(i)\n",
    "    current_patient_slice_amt = max(map(int,[re.search(current_patient_num + '-slice(.*)_z.png', file).group(1) for file in os.listdir(z_test_image) if file.startswith(current_patient_num+\"-\")]))\n",
    "    z_patient_dict_test.update({i: current_patient_slice_amt})"
   ]
  },
  {
   "cell_type": "code",
   "execution_count": null,
   "metadata": {},
   "outputs": [],
   "source": [
    "# Patient Num : Num of Slice (Z-axis)\n",
    "print(z_patient_dict_train)\n",
    "print('-----')\n",
    "print(z_patient_dict_valid)\n",
    "print('-----')\n",
    "print(z_patient_dict_test)"
   ]
  },
  {
   "cell_type": "code",
   "execution_count": null,
   "metadata": {},
   "outputs": [],
   "source": [
    "train_msk_present_slices = dict()\n",
    "valid_msk_present_slices = dict()\n",
    "test_msk_present_slices = dict()\n"
   ]
  },
  {
   "cell_type": "code",
   "execution_count": null,
   "metadata": {},
   "outputs": [],
   "source": [
    "for patient in patient_num_train:\n",
    "    print('patient', patient)\n",
    "    new_patient = []\n",
    "    for i in range(z_patient_dict_train[patient]):\n",
    "        z_msk = cv2.imread(z_train_mask + '/P' + str(patient)+'-slice'+'{0}'.format(i+1).zfill(3)+'_z.png',-1) # Get .png in np array format\n",
    "        if np.any(z_msk):\n",
    "            new_patient.append(i+1)\n",
    "    print(patient, new_patient)\n",
    "    train_msk_present_slices.update({patient : new_patient})"
   ]
  },
  {
   "cell_type": "code",
   "execution_count": null,
   "metadata": {},
   "outputs": [],
   "source": [
    "for patient in patient_num_valid:\n",
    "    new_patient = []\n",
    "    for i in range(z_patient_dict_valid[patient]):\n",
    "        z_msk = cv2.imread(z_valid_mask + '/P' + str(patient)+'-slice'+'{0}'.format(i+1).zfill(3)+'_z.png',-1) # Get .png in np array format\n",
    "        if np.any(z_msk):\n",
    "            new_patient.append(i+1)\n",
    "    print(patient, new_patient)\n",
    "    valid_msk_present_slices.update({patient : new_patient})"
   ]
  },
  {
   "cell_type": "code",
   "execution_count": null,
   "metadata": {},
   "outputs": [],
   "source": [
    "for patient in patient_num_test:\n",
    "    new_patient = []\n",
    "    for i in range(z_patient_dict_test[patient]):\n",
    "        z_msk = cv2.imread(z_test_mask + '/P' + str(patient)+'-slice'+'{0}'.format(i+1).zfill(3)+'_z.png',-1) # Get .png in np array format\n",
    "        if np.any(z_msk):\n",
    "            new_patient.append(i+1)\n",
    "    print(patient, new_patient)\n",
    "    test_msk_present_slices.update({patient : new_patient})"
   ]
  },
  {
   "cell_type": "code",
   "execution_count": null,
   "metadata": {},
   "outputs": [],
   "source": [
    "train_msk_ovr_100 = list()\n",
    "train_msk_within_100 = list()\n",
    "\n",
    "valid_msk_ovr_100 = list()\n",
    "valid_msk_within_100 = list()\n",
    "\n",
    "test_msk_ovr_100 = list()\n",
    "test_msk_within_100 = list()"
   ]
  },
  {
   "cell_type": "code",
   "execution_count": null,
   "metadata": {},
   "outputs": [],
   "source": [
    "for key,value in train_msk_present_slices.items():\n",
    "    if len(value) == 0:\n",
    "        print('Patient with no mask: ',key)\n",
    "    elif min(value) > 100:\n",
    "        train_msk_ovr_100.append(key)\n",
    "    else:\n",
    "        train_msk_within_100.append(key)\n",
    "\n",
    "for key,value in valid_msk_present_slices.items():\n",
    "    if len(value) == 0:\n",
    "        print('Patient with no mask: ',key)\n",
    "    elif min(value) > 100:\n",
    "        valid_msk_ovr_100.append(key)\n",
    "    else:\n",
    "        valid_msk_within_100.append(key)\n",
    "\n",
    "for key,value in test_msk_present_slices.items():\n",
    "    if len(value) == 0:\n",
    "        print('Patient with no mask: ',key)\n",
    "    elif min(value) > 100:\n",
    "        test_msk_ovr_100.append(key)\n",
    "    else:\n",
    "        test_msk_within_100.append(key)"
   ]
  },
  {
   "cell_type": "code",
   "execution_count": null,
   "metadata": {},
   "outputs": [],
   "source": [
    "print('train_msk_exceed_100: ', len(train_msk_ovr_100))\n",
    "print('train_msk_within_first_100: ',len(train_msk_within_100))\n",
    "print('--')\n",
    "print(len(valid_msk_ovr_100))\n",
    "print(len(valid_msk_within_100))\n",
    "print('--')\n",
    "print(len(test_msk_ovr_100))\n",
    "print(len(test_msk_within_100))"
   ]
  },
  {
   "cell_type": "code",
   "execution_count": null,
   "metadata": {},
   "outputs": [],
   "source": [
    "data_dir = '/home/tester/jianhoong/jh_fyp_work/ct_scans_data/raw_data/'\n",
    "\n",
    "z_train = os.path.join(data_dir, 'training_data_z')\n",
    "z_train_image = os.path.join(z_train, 'training_images/training_images')\n",
    "z_train_mask = os.path.join(z_train, 'training_masks/training_masks')\n",
    "\n",
    "z_valid = os.path.join(data_dir, 'valid_data_z')\n",
    "z_valid_image = os.path.join(z_valid, 'valid_images/valid_images')\n",
    "z_valid_mask = os.path.join(z_valid, 'valid_masks/valid_masks')\n",
    "\n",
    "z_test = os.path.join(data_dir, 'testing_data_z')\n",
    "z_test_image = os.path.join(z_test, 'testing_images/testing_images')\n",
    "z_test_mask = os.path.join(z_test, 'testing_masks/testing_masks')"
   ]
  },
  {
   "cell_type": "code",
   "execution_count": null,
   "metadata": {},
   "outputs": [],
   "source": [
    "patient = 1\n",
    "os.path.join(z_train_image, 'P' + str(patient) + '_image.nrrd')"
   ]
  },
  {
   "cell_type": "code",
   "execution_count": null,
   "metadata": {},
   "outputs": [],
   "source": [
    "train_patient_dim_3 = {}\n",
    "train_patient_dim_5 = {}"
   ]
  },
  {
   "cell_type": "code",
   "execution_count": null,
   "metadata": {},
   "outputs": [],
   "source": [
    "for patient in train_msk_within_100:\n",
    "    filePath = os.path.join(z_train_image, 'P' + str(patient) + '_image.nrrd')\n",
    "    readdata, header = nrrd.read(filePath)\n",
    "    thickness = header['space directions'][2][2] \n",
    "    if thickness <= 3.1:\n",
    "        train_patient_dim_3.update({patient : thickness})\n",
    "    elif thickness >= 4.9:\n",
    "        train_patient_dim_5.update({patient : thickness})\n",
    "    else:\n",
    "        print(patient, thickness)\n",
    "    print(patient)"
   ]
  },
  {
   "cell_type": "code",
   "execution_count": null,
   "metadata": {},
   "outputs": [],
   "source": [
    "valid_patient_dim_3= dict()\n",
    "valid_patient_dim_5= dict()\n",
    "test_patient_dim_3= dict()\n",
    "test_patient_dim_5= dict()"
   ]
  },
  {
   "cell_type": "code",
   "execution_count": null,
   "metadata": {},
   "outputs": [],
   "source": [
    "for patient in valid_msk_within_100:\n",
    "    filePath = os.path.join(z_valid_image, 'P' + str(patient) + '_image.nrrd')\n",
    "    readdata, header = nrrd.read(filePath)\n",
    "    thickness = header['space directions'][2][2] \n",
    "    if thickness <= 3.1:\n",
    "        valid_patient_dim_3.update({patient : thickness})\n",
    "    elif thickness >= 4.9:\n",
    "        valid_patient_dim_5.update({patient : thickness})\n",
    "    else:\n",
    "        print(patient, thickness)\n",
    "    print(patient)\n",
    "\n",
    "for patient in test_msk_within_100:\n",
    "    filePath = os.path.join(z_test_image, 'P' + str(patient) + '_image.nrrd')\n",
    "    readdata, header = nrrd.read(filePath)\n",
    "    thickness = header['space directions'][2][2] \n",
    "    if thickness <= 3.1:\n",
    "        test_patient_dim_3.update({patient : thickness})\n",
    "    elif thickness >= 4.9:\n",
    "        test_patient_dim_5.update({patient : thickness})\n",
    "    else:\n",
    "        print(patient, thickness)\n",
    "    print(patient)"
   ]
  },
  {
   "cell_type": "code",
   "execution_count": null,
   "metadata": {},
   "outputs": [],
   "source": [
    "print(len(train_patient_dim_3))\n",
    "print(len(valid_patient_dim_3))\n",
    "print(len(test_patient_dim_3))\n",
    "\n",
    "print('---')\n",
    "print(len(train_patient_dim_5))\n",
    "print(len(valid_patient_dim_5))\n",
    "print(len(test_patient_dim_5))\n"
   ]
  },
  {
   "cell_type": "code",
   "execution_count": null,
   "metadata": {},
   "outputs": [],
   "source": [
    "train_patient_dim_3.keys()"
   ]
  },
  {
   "cell_type": "code",
   "execution_count": null,
   "metadata": {},
   "outputs": [],
   "source": [
    "valid_patient_dim_3.keys()"
   ]
  },
  {
   "cell_type": "code",
   "execution_count": null,
   "metadata": {},
   "outputs": [],
   "source": [
    "test_patient_dim_3.keys()"
   ]
  },
  {
   "cell_type": "code",
   "execution_count": null,
   "metadata": {},
   "outputs": [],
   "source": [
    "train_patient_dim_5.keys()"
   ]
  },
  {
   "cell_type": "code",
   "execution_count": null,
   "metadata": {},
   "outputs": [],
   "source": [
    "valid_patient_dim_5.keys()"
   ]
  },
  {
   "cell_type": "code",
   "execution_count": null,
   "metadata": {},
   "outputs": [],
   "source": [
    "test_patient_dim_5.keys()"
   ]
  },
  {
   "cell_type": "code",
   "execution_count": null,
   "metadata": {},
   "outputs": [],
   "source": [
    "imgPath2 = os.path.join(z_train_image, 'P2_image.nrrd')\n",
    "readdata2, header2 = nrrd.read(imgPath2)"
   ]
  },
  {
   "cell_type": "code",
   "execution_count": null,
   "metadata": {},
   "outputs": [],
   "source": [
    "header2['space directions'][2][2]"
   ]
  },
  {
   "cell_type": "code",
   "execution_count": null,
   "metadata": {},
   "outputs": [],
   "source": [
    "imgPath = os.path.join(z_train_image, 'P2_image.nrrd')\n",
    "readdata, header = nrrd.read(imgPath)"
   ]
  },
  {
   "cell_type": "code",
   "execution_count": null,
   "metadata": {},
   "outputs": [],
   "source": [
    "for key, value in header.items():\n",
    "    print(key, ':', value)"
   ]
  },
  {
   "cell_type": "code",
   "execution_count": null,
   "metadata": {},
   "outputs": [],
   "source": [
    "header['space directions'], header['space origin']"
   ]
  },
  {
   "cell_type": "code",
   "execution_count": null,
   "metadata": {},
   "outputs": [],
   "source": [
    "print(header['space directions'])\n",
    "print('-------------------')\n",
    "print(header2['space directions'])\n",
    "print('-------------------')\n",
    "print(header['space origin'])\n",
    "print('-------------------')\n",
    "print(header2['space origin'])\n",
    "print('-------------------')"
   ]
  },
  {
   "cell_type": "code",
   "execution_count": null,
   "metadata": {},
   "outputs": [],
   "source": [
    "header2['space directions']"
   ]
  },
  {
   "cell_type": "code",
   "execution_count": null,
   "metadata": {},
   "outputs": [],
   "source": [
    "header2['space origin']"
   ]
  },
  {
   "cell_type": "code",
   "execution_count": null,
   "metadata": {},
   "outputs": [],
   "source": [
    "desired_patient_index = 1\n",
    "z_train_image + '/P' + str(desired_patient_index)+'-slice'+'{0}'.format(1).zfill(3)+'_z.png'"
   ]
  },
  {
   "cell_type": "code",
   "execution_count": null,
   "metadata": {},
   "outputs": [],
   "source": [
    "z_img = cv2.imread(z_train_image + '/P' + str(desired_patient_index)+'-slice'+'{0}'.format(1).zfill(3)+'_z.png',-1) # Get .png in np array format\n",
    "z_msk = cv2.imread(z_train_mask + '/P' + str(desired_patient_index)+'-slice'+'{0}'.format(1).zfill(3)+'_z.png',-1) # Get .png in np array format"
   ]
  },
  {
   "cell_type": "code",
   "execution_count": null,
   "metadata": {},
   "outputs": [],
   "source": [
    "base_width = 256\n",
    "image = Image.open(z_train_image + '/P' + str(desired_patient_index)+'-slice'+'{0}'.format(1).zfill(3)+'_z.png')"
   ]
  },
  {
   "cell_type": "code",
   "execution_count": null,
   "metadata": {},
   "outputs": [],
   "source": [
    "width_percent = (base_width / float(image.size[0]))\n",
    "hsize = int((float(image.size[1] * float(width_percent))))\n",
    "image = image.resize((base_width, hsize), PIL.Image.ANTIALIAS)"
   ]
  },
  {
   "cell_type": "code",
   "execution_count": null,
   "metadata": {},
   "outputs": [],
   "source": [
    "image"
   ]
  },
  {
   "cell_type": "code",
   "execution_count": null,
   "metadata": {},
   "outputs": [],
   "source": [
    "desired_width = 256.\n",
    "width_percentage = (desired_width / float(z_img.shape[0]))\n",
    "desired_height = (float(z_img.shape[1] * float(width_percentage)))\n",
    "\n",
    "z_img = z_img.resize((desired_width, desired_height), PIL.Image.ANTIALIAS)"
   ]
  },
  {
   "cell_type": "code",
   "execution_count": null,
   "metadata": {},
   "outputs": [],
   "source": [
    "plt.imshow(z_img)\n",
    "plt.savefig('/home/tester/jianhoong/jh_fyp_work/2D_UNet/trials/ModelPerformanceImages/test2.png',\n",
    "bbox_inches = 'tight')"
   ]
  },
  {
   "cell_type": "code",
   "execution_count": null,
   "metadata": {},
   "outputs": [],
   "source": [
    "print(z_img.shape)\n",
    "z_msk.shape"
   ]
  },
  {
   "cell_type": "code",
   "execution_count": null,
   "metadata": {},
   "outputs": [],
   "source": [
    "np.min(z_img), np.max(z_img), z_img.shape"
   ]
  },
  {
   "cell_type": "code",
   "execution_count": null,
   "metadata": {},
   "outputs": [],
   "source": [
    "# Analyzing single patient slices (train set) i.e (P1 : 122 slices)\n",
    "max_pixel_val = 0\n",
    "for i in range(z_patient_dict_train[desired_patient_index]):\n",
    "    z_img = cv2.imread(z_train_image + '/P' + str(desired_patient_index)+'-slice'+'{0}'.format(i+1).zfill(3)+'_z.png') # Get .png in np array format\n",
    "    print(np.min(z_img), np.max(z_img), z_img.shape)\n",
    "    if np.max(z_img) > max_pixel_val:\n",
    "        max_pixel_val = np.max(z_img)\n",
    "max_pixel_val"
   ]
  },
  {
   "cell_type": "code",
   "execution_count": null,
   "metadata": {},
   "outputs": [],
   "source": [
    "# Analyzing all patient slices (train set) i.e (210 patients and all their slices)\n",
    "min_pix_val, max_pix_val = 0, 0\n",
    "\n",
    "for patient in patient_num_train:\n",
    "    for i in range(z_patient_dict_train[patient]):\n",
    "        z_img = cv2.imread(z_train_image + '/P' + str(patient)+'-slice'+'{0}'.format(i+1).zfill(3)+'_z.png') # Get .png in np array format\n",
    "        print(np.min(z_img), np.max(z_img), z_img.shape)\n",
    "        if np.max(z_img) > max_pix_val:\n",
    "            max_pix_val = np.max(z_img)\n",
    "        if np.min(z_img) < min_pix_val:\n",
    "            min_pix_val = np.min(z_img)"
   ]
  },
  {
   "cell_type": "code",
   "execution_count": null,
   "metadata": {},
   "outputs": [],
   "source": [
    "min_pix_val, max_pix_val"
   ]
  },
  {
   "cell_type": "code",
   "execution_count": null,
   "metadata": {},
   "outputs": [],
   "source": [
    "min_pix_val_valid, max_pix_val_valid = 0, 0\n",
    "\n",
    "for patient in patient_num_valid:\n",
    "    for i in range(z_patient_dict_valid[patient]):\n",
    "        z_img = cv2.imread(z_valid_image + '/P' + str(patient)+'-slice'+'{0}'.format(i+1).zfill(3)+'_z.png') # Get .png in np array format\n",
    "        print(np.min(z_img), np.max(z_img), z_img.shape)\n",
    "        if np.max(z_img) > max_pix_val_valid:\n",
    "            max_pix_val_valid = np.max(z_img)\n",
    "        if np.min(z_img) < min_pix_val_valid:\n",
    "            min_pix_val_valid = np.min(z_img)"
   ]
  },
  {
   "cell_type": "code",
   "execution_count": null,
   "metadata": {},
   "outputs": [],
   "source": [
    "min_pix_val_valid, max_pix_val_valid"
   ]
  },
  {
   "cell_type": "code",
   "execution_count": null,
   "metadata": {},
   "outputs": [],
   "source": [
    "# Helper functions to print out patient images\n",
    "\n",
    "\n",
    "def display_z(display_list, patient_num, current_slice_num):\n",
    "\n",
    "    plt.figure(figsize = (12,12))\n",
    "    title = [f'Patient {patient_num} Input Image - Slice(Z) {current_slice_num}', f'Patient {patient_num} True Mask - Slice(Z) {current_slice_num}']\n",
    "\n",
    "    for i in range(len(display_list)):\n",
    "        plt.subplot(1, len(display_list), i+1)\n",
    "        plt.title(title[i])\n",
    "        plt.imshow(display_list[i])\n",
    "    plt.show()\n",
    "\n",
    "def show_dataset(desired_patient_index, show_only_mask_present = False):\n",
    "\n",
    "    z_slices = z_patient_dict_train[desired_patient_index]\n",
    "\n",
    "    for i in range(z_slices): # Iterate through number of slices for desired patient\n",
    "\n",
    "        current_slice_num = i+1\n",
    "        patient_num = desired_patient_index\n",
    "\n",
    "        z_img = cv2.imread(z_train_image + '/P' + str(desired_patient_index)+'-slice'+'{0}'.format(i+1).zfill(3)+'_z.png') # Get .png in np array format\n",
    "        z_msk = cv2.imread(z_train_mask + '/P' + str(desired_patient_index)+'-slice'+'{0}'.format(i+1).zfill(3)+'_z.png') # Get .png in np array format\n",
    "\n",
    "        if show_only_mask_present: # show_only_mask_present flag: Default set to False\n",
    "            if np.any(z_msk): # Checking for non-zero msk .png (Empty msk.png will return array of all zeros) (think of this as: if any values in msk.png, show me this img)\n",
    "                display_z([z_img,z_msk], patient_num, current_slice_num)\n",
    "        else:\n",
    "            display_z([z_img,z_msk],patient_num, current_slice_num) \n",
    "            "
   ]
  },
  {
   "cell_type": "code",
   "execution_count": null,
   "metadata": {},
   "outputs": [],
   "source": [
    "# -- Parameters to be set by user ------------------------------------------------------------------------------------------\n",
    "desired_patient_num = 86\n",
    "show_mask_only = True # True : Only show slices where masks are present. | False : Show all slices regardless mask presence\n",
    "# This is important because most mask slices are just blank images. \n",
    "# --------------------------------------------------------------------------------------------------------------------------\n",
    "\n",
    "# num_of_slices = z_patient_dict_train[desired_patient_num]\n",
    "show_dataset(desired_patient_num,show_mask_only)"
   ]
  },
  {
   "cell_type": "markdown",
   "metadata": {},
   "source": [
    "### Analyzing 3D Data"
   ]
  },
  {
   "cell_type": "code",
   "execution_count": null,
   "metadata": {},
   "outputs": [],
   "source": [
    "def sorted_alnum(l):\n",
    "    convert = lambda text: int(text) if text.isdigit() else text # Convert digit string into integer else keep as text\n",
    "    alphanum_key = lambda key : [convert(c) for c in re.split('([0-9]+)', key)]\n",
    "    return sorted(l, key = alphanum_key)\n",
    "\n",
    "    # To normalize image pixel data to between 0 & 1\n",
    "HOUNSFIELD_MIN = -1000 # min value of our data : -1000\n",
    "HOUNSFIELD_MAX = 5000 # max value of our data : 5013\n",
    "HOUNSFIELD_RANGE = HOUNSFIELD_MAX - HOUNSFIELD_MIN\n",
    "\n",
    "def normalizeImageIntensityRange(img):\n",
    "    img[img < HOUNSFIELD_MIN] = HOUNSFIELD_MIN\n",
    "    img[img > HOUNSFIELD_MAX] = HOUNSFIELD_MAX\n",
    "    return (img - HOUNSFIELD_MIN) / HOUNSFIELD_RANGE"
   ]
  },
  {
   "cell_type": "code",
   "execution_count": null,
   "metadata": {},
   "outputs": [],
   "source": [
    "data_dir = '/home/tester/jianhoong/jh_fyp_work/ct_scans_data/raw_data/'\n",
    "\n",
    "z_train = os.path.join(data_dir, 'training_data_z')\n",
    "z_train_image = os.path.join(z_train, 'training_images/training_images')\n",
    "z_train_mask = os.path.join(z_train, 'training_masks/training_masks')\n",
    "\n",
    "z_valid = os.path.join(data_dir, 'valid_data_z')\n",
    "z_valid_image = os.path.join(z_valid, 'valid_images')\n",
    "z_valid_mask = os.path.join(z_valid, 'valid_masks')\n",
    "\n",
    "z_test = os.path.join(data_dir, 'testing_data_z')\n",
    "z_test_image = os.path.join(z_test, 'testing_images')\n",
    "z_test_mask = os.path.join(z_test, 'testing_masks')"
   ]
  },
  {
   "cell_type": "code",
   "execution_count": null,
   "metadata": {},
   "outputs": [],
   "source": [
    "train_mask_names = glob.glob(z_train_mask + '/*.nrrd')\n",
    "train_mask_names = sorted_alnum(train_mask_names)"
   ]
  },
  {
   "cell_type": "code",
   "execution_count": null,
   "metadata": {},
   "outputs": [],
   "source": [
    "train_mask_names"
   ]
  },
  {
   "cell_type": "code",
   "execution_count": null,
   "metadata": {},
   "outputs": [],
   "source": [
    "# Code Dump (Deprecated)\n",
    "\n",
    "# x_train_image = os.path.join(data_dir, 'training_data_x/training_images/training_images')\n",
    "# y_train_image = os.path.join(data_dir, 'training_data_y/training_images/training_images')\n",
    "\n",
    "# x_train_mask = os.path.join(data_dir, 'training_data_x/training_masks/training_masks')\n",
    "# y_train_mask = os.path.join(data_dir, 'training_data_y/training_masks/training_masks')\n",
    "\n",
    "# x_test_image = os.path.join(data_dir, 'testing_data_x/testing_images/testing_images')\n",
    "# y_test_image = os.path.join(data_dir, 'testing_data_y/testing_images/testing_images')\n",
    "\n",
    "# x_test_mask = os.path.join(data_dir, 'testing_data_x/testing_masks/testing_masks')\n",
    "# y_test_mask = os.path.join(data_dir, 'testing_data_y/testing_masks/testing_masks')\n",
    "\n",
    "\n",
    "\n",
    "\n",
    "# x_patient_dict_train = dict()\n",
    "# y_patient_dict_train = dict()\n",
    "\n",
    "# for i in range(len(patient_num_train)): # i represents each patient's number (Assuming there is no jump in patient number. Else must rewrite logic)\n",
    "#     current_patient_num = 'P' + str(i+1)\n",
    "#     current_patient_slice_amt = max(map(int,[re.search(current_patient_num + '-slice(.*)_x.png', file).group(1) for file in os.listdir(x_train_image) if file.startswith(current_patient_num+\"-\")]))\n",
    "#     x_patient_dict_train.update({i+1: current_patient_slice_amt})\n",
    "\n",
    "# for i in range(len(patient_num_train)): # i represents each patient's number (Assuming there is no jump in patient number. Else must rewrite logic)\n",
    "#     current_patient_num = 'P' + str(i+1)\n",
    "#     current_patient_slice_amt = max(map(int,[re.search(current_patient_num + '-slice(.*)_y.png', file).group(1) for file in os.listdir(y_train_image) if file.startswith(current_patient_num+\"-\")]))\n",
    "#     y_patient_dict_train.update({i+1: current_patient_slice_amt})\n",
    "\n",
    "# for i in patient_num_valid: # i represents each patient's number (Assuming there is no jump in patient number. Else must rewrite logic)\n",
    "#     current_patient_num = 'P' + str(i+1)\n",
    "#     current_patient_slice_amt = max(map(int,[re.search(current_patient_num + '-slice(.*)_z.png', file).group(1) for file in os.listdir(z_valid_image) if file.startswith(current_patient_num+\"-\")]))\n",
    "#     z_patient_dict_valid.update({i+1: current_patient_slice_amt})\n",
    "\n",
    "# for i in patient_num_test: # i represents each patient's number (Assuming there is no jump in patient number. Else must rewrite logic)\n",
    "#     current_patient_num = 'P' + str(i+1)\n",
    "#     current_patient_slice_amt = max(map(int,[re.search(current_patient_num + '-slice(.*)_z.png', file).group(1) for file in os.listdir(z_test_image) if file.startswith(current_patient_num+\"-\")]))\n",
    "#     z_patient_dict_test.update({i+1: current_patient_slice_amt})\n",
    "\n",
    "\n",
    "\n",
    "\n",
    "# print(x_patient_dict_train[1])\n",
    "# print(y_patient_dict_train[1])\n",
    "\n",
    "\n",
    "\n",
    "# def display_x(display_list, patient_num, current_slice_num):\n",
    "\n",
    "#     plt.figure(figsize = (10,5))\n",
    "#     title = [f'Patient {patient_num} Input Image - Slice(X) {current_slice_num}', f'Patient {patient_num} True Mask - Slice(X) {current_slice_num}']\n",
    "\n",
    "#     for i in range(len(display_list)):\n",
    "#         plt.subplot(1, len(display_list), i+1)\n",
    "#         plt.title(title[i])\n",
    "#         plt.imshow(display_list[i], aspect = 'auto')\n",
    "#     plt.show()\n",
    "\n",
    "# def display_y(display_list, patient_num, current_slice_num):\n",
    "\n",
    "#     plt.figure(figsize = (10,5))\n",
    "#     title = [f'Patient {patient_num} Input Image - Slice(Y) {current_slice_num}', f'Patient {patient_num} True Mask - Slice(Y) {current_slice_num}']\n",
    "\n",
    "#     for i in range(len(display_list)):\n",
    "#         plt.subplot(1, len(display_list), i+1)\n",
    "#         plt.title(title[i])\n",
    "#         plt.imshow(display_list[i], aspect = 'auto')\n",
    "#     plt.show()\n",
    "\n",
    "\t\n",
    "#     x_slices = x_patient_dict_train[desired_patient_index]\n",
    "#     y_slices = y_patient_dict_train[desired_patient_index]\n",
    "\n",
    "\n",
    "\n",
    "\n",
    "\n",
    "#     if show_x:\n",
    "#         for i in range(x_slices): # Iterate through number of slices for desired patient\n",
    "\n",
    "#             current_slice_num = i+1\n",
    "#             patient_num = desired_patient_index\n",
    "\n",
    "#             x_img = cv2.imread(x_train_image + '/P' + str(desired_patient_index)+'-slice'+'{0}'.format(i+1).zfill(3)+'_x.png') # Get .png in np array format\n",
    "#             x_msk = cv2.imread(x_train_mask + '/P' + str(desired_patient_index)+'-slice'+'{0}'.format(i+1).zfill(3)+'_x.png') # Get .png in np array format\n",
    "\n",
    "#             if show_only_mask_present: # show_only_mask_present flag: Default set to False\n",
    "#                 if np.any(x_msk): # Checking for non-zero msk .png (Empty msk.png will return array of all zeros) (think of this as: if any values in msk.png, show me this img)\n",
    "#                     display_x([x_img,x_msk], patient_num, current_slice_num)\n",
    "                   \n",
    "#             else:\n",
    "#                 display_x([x_img,x_msk],patient_num, current_slice_num)\n",
    "#     if show_y:\n",
    "#         for i in range(y_slices): # Iterate through number of slices for desired patient\n",
    "\n",
    "#             current_slice_num = i+1\n",
    "#             patient_num = desired_patient_index\n",
    "\n",
    "#             y_img = cv2.imread(y_train_image + '/P' + str(desired_patient_index)+'-slice'+'{0}'.format(i+1).zfill(3)+'_y.png') # Get .png in np array format\n",
    "#             y_msk = cv2.imread(y_train_mask + '/P' + str(desired_patient_index)+'-slice'+'{0}'.format(i+1).zfill(3)+'_y.png') # Get .png in np array format\n",
    "\n",
    "#             if show_only_mask_present: # show_only_mask_present flag: Default set to False\n",
    "#                 if np.any(y_msk): # Checking for non-zero msk .png (Empty msk.png will return array of all zeros) (think of this as: if any values in msk.png, show me this img)\n",
    "#                     display_y([y_img,y_msk], patient_num, current_slice_num)\n",
    "                    \n",
    "#             else:\n",
    "#                 display_y([y_img,y_msk],patient_num, current_slice_num)\n",
    "\n"
   ]
  },
  {
   "cell_type": "code",
   "execution_count": null,
   "metadata": {},
   "outputs": [],
   "source": []
  },
  {
   "cell_type": "code",
   "execution_count": null,
   "metadata": {},
   "outputs": [],
   "source": []
  },
  {
   "cell_type": "code",
   "execution_count": null,
   "metadata": {},
   "outputs": [],
   "source": []
  },
  {
   "cell_type": "code",
   "execution_count": null,
   "metadata": {},
   "outputs": [],
   "source": []
  },
  {
   "cell_type": "code",
   "execution_count": null,
   "metadata": {},
   "outputs": [],
   "source": []
  },
  {
   "cell_type": "code",
   "execution_count": null,
   "metadata": {},
   "outputs": [],
   "source": []
  },
  {
   "cell_type": "code",
   "execution_count": null,
   "metadata": {},
   "outputs": [],
   "source": []
  },
  {
   "cell_type": "code",
   "execution_count": null,
   "metadata": {},
   "outputs": [],
   "source": []
  },
  {
   "cell_type": "code",
   "execution_count": null,
   "metadata": {},
   "outputs": [],
   "source": []
  },
  {
   "cell_type": "code",
   "execution_count": null,
   "metadata": {},
   "outputs": [],
   "source": []
  }
 ],
 "metadata": {
  "kernelspec": {
   "display_name": "Python 3",
   "language": "python",
   "name": "python3"
  },
  "language_info": {
   "name": "python",
   "version": "3.10.5 (tags/v3.10.5:f377153, Jun  6 2022, 16:14:13) [MSC v.1929 64 bit (AMD64)]"
  },
  "orig_nbformat": 4,
  "vscode": {
   "interpreter": {
    "hash": "31c0d9e52a0062bfd16013482e06f69feb139e91f5153517cdee37527c70dad2"
   }
  }
 },
 "nbformat": 4,
 "nbformat_minor": 2
}
